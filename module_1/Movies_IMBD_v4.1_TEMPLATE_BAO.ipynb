{
 "cells": [
  {
   "cell_type": "code",
   "execution_count": 223,
   "metadata": {
    "_cell_guid": "b1076dfc-b9ad-4769-8c92-a6c4dae69d19",
    "_uuid": "8f2839f25d086af736a60e9eeb907d3b93b6e0e5",
    "colab": {},
    "colab_type": "code",
    "id": "U2D2gTdJVp90"
   },
   "outputs": [],
   "source": [
    "import numpy as np\n",
    "import pandas as pd\n",
    "import seaborn as sns\n",
    "import matplotlib.pyplot as plt\n",
    "from collections import Counter\n",
    "from itertools import combinations"
   ]
  },
  {
   "cell_type": "code",
   "execution_count": 164,
   "metadata": {
    "_cell_guid": "79c7e3d0-c299-4dcb-8224-4455121ee9b0",
    "_uuid": "d629ff2d2480ee46fbb7e2d37f6b5fab8052498a",
    "colab": {},
    "colab_type": "code",
    "id": "oyGfxL3eVp9-"
   },
   "outputs": [],
   "source": [
    "data = pd.read_csv('/Users/aleksandrbystrickij/PycharmProjects/movie_bd_v5.csv')\n",
    "data.sample(5)\n",
    "data['profit'] = data['revenue'] - data['budget']\n",
    "data['genres'] = data.genres.str.split('|')\n",
    "data['director'] = data.director.str.split('|')\n",
    "data['cast'] = data.cast.str.split('|')\n",
    "data['production_companies'] = data.production_companies.str.split('|')\n",
    "data['release_date'] = data.release_date.str.split('/')\n",
    "data['title_length'] = data.original_title.apply(lambda x: len(x))\n",
    "data['overview_length'] = data.overview.str.split(' ').apply(lambda x: len(x))"
   ]
  },
  {
   "cell_type": "code",
   "execution_count": 69,
   "metadata": {
    "colab": {},
    "colab_type": "code",
    "id": "CoYUnagMVp-C"
   },
   "outputs": [
    {
     "data": {
      "text/html": [
       "<div>\n",
       "<style scoped>\n",
       "    .dataframe tbody tr th:only-of-type {\n",
       "        vertical-align: middle;\n",
       "    }\n",
       "\n",
       "    .dataframe tbody tr th {\n",
       "        vertical-align: top;\n",
       "    }\n",
       "\n",
       "    .dataframe thead th {\n",
       "        text-align: right;\n",
       "    }\n",
       "</style>\n",
       "<table border=\"1\" class=\"dataframe\">\n",
       "  <thead>\n",
       "    <tr style=\"text-align: right;\">\n",
       "      <th></th>\n",
       "      <th>budget</th>\n",
       "      <th>revenue</th>\n",
       "      <th>runtime</th>\n",
       "      <th>vote_average</th>\n",
       "      <th>release_year</th>\n",
       "      <th>profit</th>\n",
       "    </tr>\n",
       "  </thead>\n",
       "  <tbody>\n",
       "    <tr>\n",
       "      <th>count</th>\n",
       "      <td>1.889000e+03</td>\n",
       "      <td>1.889000e+03</td>\n",
       "      <td>1889.000000</td>\n",
       "      <td>1889.000000</td>\n",
       "      <td>1889.000000</td>\n",
       "      <td>1.889000e+03</td>\n",
       "    </tr>\n",
       "    <tr>\n",
       "      <th>mean</th>\n",
       "      <td>5.431083e+07</td>\n",
       "      <td>1.553653e+08</td>\n",
       "      <td>109.658549</td>\n",
       "      <td>6.140762</td>\n",
       "      <td>2007.860773</td>\n",
       "      <td>1.010545e+08</td>\n",
       "    </tr>\n",
       "    <tr>\n",
       "      <th>std</th>\n",
       "      <td>4.858721e+07</td>\n",
       "      <td>2.146698e+08</td>\n",
       "      <td>18.017041</td>\n",
       "      <td>0.764763</td>\n",
       "      <td>4.468841</td>\n",
       "      <td>1.830733e+08</td>\n",
       "    </tr>\n",
       "    <tr>\n",
       "      <th>min</th>\n",
       "      <td>5.000000e+06</td>\n",
       "      <td>2.033165e+06</td>\n",
       "      <td>63.000000</td>\n",
       "      <td>3.300000</td>\n",
       "      <td>2000.000000</td>\n",
       "      <td>-1.657101e+08</td>\n",
       "    </tr>\n",
       "    <tr>\n",
       "      <th>25%</th>\n",
       "      <td>2.000000e+07</td>\n",
       "      <td>3.456058e+07</td>\n",
       "      <td>97.000000</td>\n",
       "      <td>5.600000</td>\n",
       "      <td>2004.000000</td>\n",
       "      <td>5.000000e+06</td>\n",
       "    </tr>\n",
       "    <tr>\n",
       "      <th>50%</th>\n",
       "      <td>3.800000e+07</td>\n",
       "      <td>8.361541e+07</td>\n",
       "      <td>107.000000</td>\n",
       "      <td>6.100000</td>\n",
       "      <td>2008.000000</td>\n",
       "      <td>4.400041e+07</td>\n",
       "    </tr>\n",
       "    <tr>\n",
       "      <th>75%</th>\n",
       "      <td>7.200000e+07</td>\n",
       "      <td>1.782626e+08</td>\n",
       "      <td>120.000000</td>\n",
       "      <td>6.600000</td>\n",
       "      <td>2012.000000</td>\n",
       "      <td>1.201842e+08</td>\n",
       "    </tr>\n",
       "    <tr>\n",
       "      <th>max</th>\n",
       "      <td>3.800000e+08</td>\n",
       "      <td>2.781506e+09</td>\n",
       "      <td>214.000000</td>\n",
       "      <td>8.100000</td>\n",
       "      <td>2015.000000</td>\n",
       "      <td>2.544506e+09</td>\n",
       "    </tr>\n",
       "  </tbody>\n",
       "</table>\n",
       "</div>"
      ],
      "text/plain": [
       "             budget       revenue      runtime  vote_average  release_year  \\\n",
       "count  1.889000e+03  1.889000e+03  1889.000000   1889.000000   1889.000000   \n",
       "mean   5.431083e+07  1.553653e+08   109.658549      6.140762   2007.860773   \n",
       "std    4.858721e+07  2.146698e+08    18.017041      0.764763      4.468841   \n",
       "min    5.000000e+06  2.033165e+06    63.000000      3.300000   2000.000000   \n",
       "25%    2.000000e+07  3.456058e+07    97.000000      5.600000   2004.000000   \n",
       "50%    3.800000e+07  8.361541e+07   107.000000      6.100000   2008.000000   \n",
       "75%    7.200000e+07  1.782626e+08   120.000000      6.600000   2012.000000   \n",
       "max    3.800000e+08  2.781506e+09   214.000000      8.100000   2015.000000   \n",
       "\n",
       "             profit  \n",
       "count  1.889000e+03  \n",
       "mean   1.010545e+08  \n",
       "std    1.830733e+08  \n",
       "min   -1.657101e+08  \n",
       "25%    5.000000e+06  \n",
       "50%    4.400041e+07  \n",
       "75%    1.201842e+08  \n",
       "max    2.544506e+09  "
      ]
     },
     "execution_count": 69,
     "metadata": {},
     "output_type": "execute_result"
    }
   ],
   "source": [
    "data.describe()"
   ]
  },
  {
   "cell_type": "markdown",
   "metadata": {
    "colab_type": "text",
    "id": "DTIt7ezGVp-G"
   },
   "source": [
    "# Предобработка"
   ]
  },
  {
   "cell_type": "code",
   "execution_count": 38,
   "metadata": {
    "colab": {},
    "colab_type": "code",
    "id": "jNb40DwKVp-H"
   },
   "outputs": [],
   "source": [
    "answers = {} # создадим словарь для ответов\n",
    "\n",
    "# тут другие ваши предобработки колонок например:\n",
    "\n",
    "#the time given in the dataset is in string format.\n",
    "#So we need to change this in datetime format\n",
    "# ..."
   ]
  },
  {
   "cell_type": "markdown",
   "metadata": {
    "colab_type": "text",
    "id": "YxZaH-nPVp-L"
   },
   "source": [
    "# 1. У какого фильма из списка самый большой бюджет?"
   ]
  },
  {
   "cell_type": "markdown",
   "metadata": {
    "colab_type": "text",
    "id": "Nd-G5gX6Vp-M"
   },
   "source": [
    "Использовать варианты ответов в коде решения запрещено.    \n",
    "Вы думаете и в жизни у вас будут варианты ответов?)"
   ]
  },
  {
   "cell_type": "code",
   "execution_count": 0,
   "metadata": {
    "colab": {},
    "colab_type": "code",
    "id": "uVnXAY5RVp-O"
   },
   "outputs": [],
   "source": [
    "# в словарь вставляем номер вопроса и ваш ответ на него\n",
    "# Пример: \n",
    "answers['1'] = '2. Spider-Man 3 (tt0413300)'\n",
    "# запишите свой вариант ответа\n",
    "answers['1'] = '...'\n",
    "# если ответили верно, можете добавить комментарий со значком \"+\""
   ]
  },
  {
   "cell_type": "code",
   "execution_count": 203,
   "metadata": {
    "colab": {},
    "colab_type": "code",
    "id": "dZwb3m28Vp-S"
   },
   "outputs": [
    {
     "name": "stdout",
     "output_type": "stream",
     "text": [
      "723    Pirates of the Caribbean: On Stranger Tides\n",
      "Name: original_title, dtype: object\n"
     ]
    }
   ],
   "source": [
    "# тут пишем ваш код для решения данного вопроса:\n",
    "data1 = data[data['budget'] == data['budget'].max()]\n",
    "\n",
    "print(data1['original_title'])\n",
    "\n",
    "answers['1'] = 'Pirates of the Caribbean: On Stranger Tides +'"
   ]
  },
  {
   "cell_type": "markdown",
   "metadata": {
    "colab_type": "text",
    "id": "K7L3nbRXVp-X"
   },
   "source": [
    "ВАРИАНТ 2"
   ]
  },
  {
   "cell_type": "code",
   "execution_count": 0,
   "metadata": {
    "colab": {},
    "colab_type": "code",
    "id": "OGaoQI7rVp-X"
   },
   "outputs": [],
   "source": [
    "# можно добавлять разные варианты решения"
   ]
  },
  {
   "cell_type": "markdown",
   "metadata": {
    "colab_type": "text",
    "id": "FNRbbI3vVp-c"
   },
   "source": [
    "# 2. Какой из фильмов самый длительный (в минутах)?"
   ]
  },
  {
   "cell_type": "code",
   "execution_count": 0,
   "metadata": {
    "colab": {},
    "colab_type": "code",
    "id": "vHAoEXNTVp-d"
   },
   "outputs": [],
   "source": [
    "# думаю логику работы с этим словарем вы уже поняли, \n",
    "# по этому не буду больше его дублировать\n",
    "answers['2'] = '...'"
   ]
  },
  {
   "cell_type": "code",
   "execution_count": 202,
   "metadata": {
    "colab": {},
    "colab_type": "code",
    "id": "ot-VX2XrVp-g"
   },
   "outputs": [
    {
     "name": "stdout",
     "output_type": "stream",
     "text": [
      "1157    Gods and Generals\n",
      "Name: original_title, dtype: object\n"
     ]
    }
   ],
   "source": [
    "data2 = data[data['runtime'] == data['runtime'].max()]\n",
    "\n",
    "print(data2['original_title'])\n",
    "\n",
    "answers['2'] = 'Gods and Generals +'"
   ]
  },
  {
   "cell_type": "markdown",
   "metadata": {
    "colab_type": "text",
    "id": "bapLlpW8Vp-k"
   },
   "source": [
    "# 3. Какой из фильмов самый короткий (в минутах)?\n",
    "\n",
    "\n",
    "\n"
   ]
  },
  {
   "cell_type": "code",
   "execution_count": 200,
   "metadata": {
    "colab": {},
    "colab_type": "code",
    "id": "YBxaSHuAVp-l"
   },
   "outputs": [
    {
     "name": "stdout",
     "output_type": "stream",
     "text": [
      "768    Winnie the Pooh\n",
      "Name: original_title, dtype: object\n"
     ]
    }
   ],
   "source": [
    "data3 = data[data['runtime'] == data['runtime'].min()]\n",
    "\n",
    "print(data3['original_title'])\n",
    "\n",
    "answers['3'] = 'Winnie the Pooh +'"
   ]
  },
  {
   "cell_type": "markdown",
   "metadata": {
    "colab_type": "text",
    "id": "TfQbxbfNVp-p"
   },
   "source": [
    "# 4. Какова средняя длительность фильмов?\n"
   ]
  },
  {
   "cell_type": "code",
   "execution_count": 198,
   "metadata": {
    "colab": {},
    "colab_type": "code",
    "id": "5K6dKZYVVp-q"
   },
   "outputs": [
    {
     "name": "stdout",
     "output_type": "stream",
     "text": [
      "110\n"
     ]
    }
   ],
   "source": [
    "data4 = data['runtime'].mean()\n",
    "\n",
    "print(round(data4))\n",
    "\n",
    "answers['4'] = '110 +'"
   ]
  },
  {
   "cell_type": "markdown",
   "metadata": {
    "colab_type": "text",
    "id": "r5TvbnT_Vp-u"
   },
   "source": [
    "# 5. Каково медианное значение длительности фильмов? "
   ]
  },
  {
   "cell_type": "code",
   "execution_count": 197,
   "metadata": {
    "colab": {},
    "colab_type": "code",
    "id": "iBROplKnVp-v"
   },
   "outputs": [
    {
     "name": "stdout",
     "output_type": "stream",
     "text": [
      "107.0\n"
     ]
    }
   ],
   "source": [
    "data5 = data['runtime'].median()\n",
    "\n",
    "print(data5)\n",
    "\n",
    "answers['5'] = '107 +'"
   ]
  },
  {
   "cell_type": "markdown",
   "metadata": {
    "colab_type": "text",
    "id": "39P-deDSVp-y"
   },
   "source": [
    "# 6. Какой самый прибыльный фильм?\n",
    "#### Внимание! Здесь и далее под «прибылью» или «убытками» понимается разность между сборами и бюджетом фильма. (прибыль = сборы - бюджет) в нашем датасете это будет (profit = revenue - budget) "
   ]
  },
  {
   "cell_type": "code",
   "execution_count": 192,
   "metadata": {
    "colab": {},
    "colab_type": "code",
    "id": "UYZh4T9WVp-y"
   },
   "outputs": [
    {
     "name": "stdout",
     "output_type": "stream",
     "text": [
      "239    Avatar\n",
      "Name: original_title, dtype: object\n"
     ]
    }
   ],
   "source": [
    "data6 = data[data['profit'] == data['profit'].max()]\n",
    "\n",
    "print(data6['original_title'])\n",
    "\n",
    "answers['6'] = 'Avatar +'"
   ]
  },
  {
   "cell_type": "markdown",
   "metadata": {
    "colab_type": "text",
    "id": "M99JmIX4Vp-2"
   },
   "source": [
    "# 7. Какой фильм самый убыточный? "
   ]
  },
  {
   "cell_type": "code",
   "execution_count": 196,
   "metadata": {
    "colab": {},
    "colab_type": "code",
    "id": "w-D2m4XPVp-3"
   },
   "outputs": [
    {
     "name": "stdout",
     "output_type": "stream",
     "text": [
      "1245    The Lone Ranger\n",
      "Name: original_title, dtype: object\n"
     ]
    }
   ],
   "source": [
    "data7 = data[data['profit'] == data['profit'].min()]\n",
    "\n",
    "print(data7['original_title'])\n",
    "\n",
    "answers['7'] = 'The Lone Ranger +'"
   ]
  },
  {
   "cell_type": "markdown",
   "metadata": {
    "colab_type": "text",
    "id": "wEOM5ERVVp-6"
   },
   "source": [
    "# 8. У скольких фильмов из датасета объем сборов оказался выше бюджета?"
   ]
  },
  {
   "cell_type": "code",
   "execution_count": 212,
   "metadata": {
    "colab": {},
    "colab_type": "code",
    "id": "y00_7HD6Vp-7"
   },
   "outputs": [
    {
     "name": "stdout",
     "output_type": "stream",
     "text": [
      "1478\n"
     ]
    }
   ],
   "source": [
    "data8 = data[['imdb_id', 'revenue', 'budget']].copy()\n",
    "data8 = data8[data8['revenue'] > data8['budget']].nunique()\n",
    "print(data8['imdb_id'])\n",
    "\n",
    "answers['8'] = '1478 +'"
   ]
  },
  {
   "cell_type": "markdown",
   "metadata": {
    "colab_type": "text",
    "id": "xhpspA9KVp_A"
   },
   "source": [
    "# 9. Какой фильм оказался самым кассовым в 2008 году?"
   ]
  },
  {
   "cell_type": "code",
   "execution_count": 191,
   "metadata": {
    "colab": {},
    "colab_type": "code",
    "id": "MoUyQr9RVp_B"
   },
   "outputs": [
    {
     "name": "stdout",
     "output_type": "stream",
     "text": [
      "599    The Dark Knight\n",
      "Name: original_title, dtype: object\n"
     ]
    }
   ],
   "source": [
    "data9 = data.query('release_year == 2008').sort_values('profit', ascending=False)\n",
    "\n",
    "print(data9['original_title'].head(1))\n",
    "\n",
    "answers['9'] = 'The Dark Night +'"
   ]
  },
  {
   "cell_type": "markdown",
   "metadata": {
    "colab_type": "text",
    "id": "Zi4hDKidVp_F"
   },
   "source": [
    "# 10. Самый убыточный фильм за период с 2012 по 2014 г. (включительно)?\n"
   ]
  },
  {
   "cell_type": "code",
   "execution_count": 190,
   "metadata": {
    "colab": {},
    "colab_type": "code",
    "id": "XqyRmufJVp_F"
   },
   "outputs": [
    {
     "name": "stdout",
     "output_type": "stream",
     "text": [
      "1245    The Lone Ranger\n",
      "Name: original_title, dtype: object\n"
     ]
    }
   ],
   "source": [
    "data10 = data.query('2012 < release_year < 2014').sort_values('profit', ascending=True)\n",
    "\n",
    "print(data10['original_title'].head(1))\n",
    "\n",
    "answers['10'] = 'The Lone Ranger +'"
   ]
  },
  {
   "cell_type": "markdown",
   "metadata": {
    "colab_type": "text",
    "id": "EA7Sa9dkVp_I"
   },
   "source": [
    "# 11. Какого жанра фильмов больше всего?"
   ]
  },
  {
   "cell_type": "code",
   "execution_count": 189,
   "metadata": {
    "colab": {},
    "colab_type": "code",
    "id": "zsJAwJ8QVp_J"
   },
   "outputs": [
    {
     "name": "stdout",
     "output_type": "stream",
     "text": [
      "[('Drama', 782)]\n"
     ]
    }
   ],
   "source": [
    "# эту задачу тоже можно решать разными подходами, попробуй реализовать разные варианты\n",
    "# если будешь добавлять функцию - выноси ее в предобработку что в начале\n",
    "gen = data.explode('genres')['genres']\n",
    "data11 = Counter(gen)\n",
    "\n",
    "print(data11.most_common(1))\n",
    "\n",
    "answers['11'] = 'Drama +'"
   ]
  },
  {
   "cell_type": "markdown",
   "metadata": {
    "colab_type": "text",
    "id": "Ax6g2C8SVp_M"
   },
   "source": [
    "ВАРИАНТ 2"
   ]
  },
  {
   "cell_type": "code",
   "execution_count": 0,
   "metadata": {
    "colab": {},
    "colab_type": "code",
    "id": "otO3SbrSVp_N"
   },
   "outputs": [],
   "source": []
  },
  {
   "cell_type": "markdown",
   "metadata": {
    "colab_type": "text",
    "id": "T9_bPWpkVp_Q"
   },
   "source": [
    "# 12. Фильмы какого жанра чаще всего становятся прибыльными? "
   ]
  },
  {
   "cell_type": "code",
   "execution_count": 188,
   "metadata": {
    "colab": {},
    "colab_type": "code",
    "id": "Tmt8MaK1Vp_R"
   },
   "outputs": [
    {
     "name": "stdout",
     "output_type": "stream",
     "text": [
      "[('Drama', 560)]\n"
     ]
    }
   ],
   "source": [
    "data12 = data.copy().query('profit > 0')\n",
    "data12 = data12.explode('genres')['genres']\n",
    "data12 = Counter(gen)\n",
    "\n",
    "print(data12.most_common(1))\n",
    "\n",
    "answers['12'] = 'Drama +'"
   ]
  },
  {
   "cell_type": "markdown",
   "metadata": {
    "colab_type": "text",
    "id": "0F23bgsDVp_U"
   },
   "source": [
    "# 13. У какого режиссера самые большие суммарные кассовые сборы?"
   ]
  },
  {
   "cell_type": "code",
   "execution_count": 186,
   "metadata": {
    "colab": {},
    "colab_type": "code",
    "id": "K6Z3J8ygVp_X"
   },
   "outputs": [
    {
     "name": "stdout",
     "output_type": "stream",
     "text": [
      "director\n",
      "Peter Jackson    6490593685\n",
      "Name: revenue, dtype: int64\n"
     ]
    }
   ],
   "source": [
    "data13 = data.explode('director')\n",
    "data13 = data13.groupby(['director'])['revenue'].sum().sort_values(ascending=False)\n",
    "\n",
    "print(data13.head(1))\n",
    "\n",
    "answers['13'] = 'Peter Jackson +'"
   ]
  },
  {
   "cell_type": "markdown",
   "metadata": {
    "colab_type": "text",
    "id": "PsYC9FgRVp_a"
   },
   "source": [
    "# 14. Какой режисер снял больше всего фильмов в стиле Action?"
   ]
  },
  {
   "cell_type": "code",
   "execution_count": 185,
   "metadata": {
    "colab": {},
    "colab_type": "code",
    "id": "wd2M-wHeVp_b"
   },
   "outputs": [
    {
     "name": "stdout",
     "output_type": "stream",
     "text": [
      "director\n",
      "Robert Rodriguez    9\n",
      "Name: genres, dtype: int64\n"
     ]
    }
   ],
   "source": [
    "data14 = data.copy()\n",
    "data14 = data.explode('genres')\n",
    "data14 = data14[data14.genres.str.contains('Action', na=False)]\n",
    "data14 = data14.explode('director').groupby(['director'])['genres'].count().sort_values(ascending=False)\n",
    "\n",
    "print(data14.head(1))\n",
    "\n",
    "answers['14'] = 'Robert Rodriguez +'"
   ]
  },
  {
   "cell_type": "markdown",
   "metadata": {
    "colab_type": "text",
    "id": "PQ0KciD7Vp_f"
   },
   "source": [
    "# 15. Фильмы с каким актером принесли самые высокие кассовые сборы в 2012 году? "
   ]
  },
  {
   "cell_type": "code",
   "execution_count": 184,
   "metadata": {
    "colab": {},
    "colab_type": "code",
    "id": "aga62oeKVp_g"
   },
   "outputs": [
    {
     "name": "stdout",
     "output_type": "stream",
     "text": [
      "cast\n",
      "Chris Hemsworth    2027450773\n",
      "Name: revenue, dtype: int64\n"
     ]
    }
   ],
   "source": [
    "data15 = data.copy().query('release_year == 2012')\n",
    "data15 = data15.explode('cast').groupby(['cast'])['revenue'].sum().sort_values(ascending=False)\n",
    "\n",
    "print(data15.head(1))\n",
    "\n",
    "answers['15'] = 'Chris Hemsworth +'"
   ]
  },
  {
   "cell_type": "markdown",
   "metadata": {
    "colab_type": "text",
    "id": "mWHyyL7QVp_j"
   },
   "source": [
    "# 16. Какой актер снялся в большем количестве высокобюджетных фильмов?"
   ]
  },
  {
   "cell_type": "code",
   "execution_count": 183,
   "metadata": {
    "colab": {},
    "colab_type": "code",
    "id": "qQtmHKTFVp_k"
   },
   "outputs": [
    {
     "name": "stdout",
     "output_type": "stream",
     "text": [
      "cast\n",
      "Matt Damon    18\n",
      "Name: imdb_id, dtype: int64\n"
     ]
    }
   ],
   "source": [
    "data16 = data.copy()\n",
    "data16 = data16[data16['budget'] > data16['budget'].mean()]\n",
    "data16 = data16.explode('cast').groupby(['cast'])['imdb_id'].count().sort_values(ascending=False)\n",
    "\n",
    "print(data16.head(1))\n",
    "\n",
    "answers['16'] = 'Matt Damon +'"
   ]
  },
  {
   "cell_type": "markdown",
   "metadata": {
    "colab_type": "text",
    "id": "NIh6AaW5Vp_n"
   },
   "source": [
    "# 17. В фильмах какого жанра больше всего снимался Nicolas Cage? "
   ]
  },
  {
   "cell_type": "code",
   "execution_count": 182,
   "metadata": {
    "colab": {},
    "colab_type": "code",
    "id": "H74SJDIBVp_n"
   },
   "outputs": [
    {
     "name": "stdout",
     "output_type": "stream",
     "text": [
      "genres\n",
      "Action    17\n",
      "Name: imdb_id, dtype: int64\n"
     ]
    }
   ],
   "source": [
    "data17 = data.explode('cast')\n",
    "data17 = data17[data17['cast'] == 'Nicolas Cage']\n",
    "data17 = data17.explode('genres').groupby(['genres'])['imdb_id'].count().sort_values(ascending=False)\n",
    "\n",
    "print(data17.head(1))\n",
    "\n",
    "answers['17'] = 'Action +'"
   ]
  },
  {
   "cell_type": "markdown",
   "metadata": {
    "colab_type": "text",
    "id": "RqOmPRfWVp_q"
   },
   "source": [
    "# 18. Самый убыточный фильм от Paramount Pictures"
   ]
  },
  {
   "cell_type": "code",
   "execution_count": 218,
   "metadata": {
    "colab": {},
    "colab_type": "code",
    "id": "9E_B0Y96Vp_r"
   },
   "outputs": [
    {
     "name": "stdout",
     "output_type": "stream",
     "text": [
      "925    K-19: The Widowmaker\n",
      "Name: original_title, dtype: object\n"
     ]
    }
   ],
   "source": [
    "data18 = data.explode('production_companies')\n",
    "data18 = data18[data18['production_companies'] == 'Paramount Pictures']\n",
    "data18 = data18[data18['profit'] == data18['profit'].min()]\n",
    "\n",
    "print(data18['original_title'].head(1))\n",
    "\n",
    "answers['18'] = 'K-19: The Widowmaker +'"
   ]
  },
  {
   "cell_type": "markdown",
   "metadata": {
    "colab_type": "text",
    "id": "vS8Ur6ddVp_u"
   },
   "source": [
    "# 19. Какой год стал самым успешным по суммарным кассовым сборам?"
   ]
  },
  {
   "cell_type": "code",
   "execution_count": 217,
   "metadata": {
    "colab": {},
    "colab_type": "code",
    "id": "Dnbt4GdIVp_v"
   },
   "outputs": [
    {
     "name": "stdout",
     "output_type": "stream",
     "text": [
      "release_year\n",
      "2015    25449202382\n",
      "Name: revenue, dtype: int64\n"
     ]
    }
   ],
   "source": [
    "data19 = data.groupby(['release_year'])['revenue'].sum().sort_values(ascending=False)\n",
    "\n",
    "print(data19.head(1))\n",
    "\n",
    "answers['19'] = '2015 +'"
   ]
  },
  {
   "cell_type": "markdown",
   "metadata": {
    "colab_type": "text",
    "id": "JAzJh4QAVp_z"
   },
   "source": [
    "# 20. Какой самый прибыльный год для студии Warner Bros?"
   ]
  },
  {
   "cell_type": "code",
   "execution_count": 245,
   "metadata": {
    "colab": {},
    "colab_type": "code",
    "id": "wgVu02DEVp_0"
   },
   "outputs": [
    {
     "name": "stdout",
     "output_type": "stream",
     "text": [
      "release_year\n",
      "2007    2167367993\n",
      "2008    2134595031\n",
      "2014    1886303827\n",
      "2011    1871393682\n",
      "2003    1855493377\n",
      "2010    1853128844\n",
      "2009    1833481628\n",
      "2004    1675125175\n",
      "2013    1636453400\n",
      "2005    1551980298\n",
      "2001    1428174853\n",
      "2012    1258020056\n",
      "2002    1072248589\n",
      "2015     870368348\n",
      "2006     614989614\n",
      "2000     471305068\n",
      "Name: profit, dtype: int64\n"
     ]
    }
   ],
   "source": [
    "data20 = data.explode('production_companies')\n",
    "data20 = data20[data20['production_companies'] == 'Warner Bros.']\n",
    "data20 = data20.groupby(['release_year'])['profit'].sum().sort_values(ascending=False)\n",
    "\n",
    "print(data20)\n",
    "\n",
    "answers['20'] = '2007 ?'"
   ]
  },
  {
   "cell_type": "code",
   "execution_count": 246,
   "metadata": {},
   "outputs": [
    {
     "name": "stdout",
     "output_type": "stream",
     "text": [
      "                                              profit                   \\\n",
      "production_companies \"DIA\" Productions GmbH & Co. KG 11:11 Mediaworks   \n",
      "release_year                                                            \n",
      "All                                          8350926         94188334   \n",
      "2007                                               0                0   \n",
      "2008                                               0                0   \n",
      "2014                                               0                0   \n",
      "2011                                               0                0   \n",
      "2003                                         8350926                0   \n",
      "2010                                               0                0   \n",
      "2009                                               0                0   \n",
      "2004                                               0                0   \n",
      "2013                                               0                0   \n",
      "2005                                               0                0   \n",
      "2001                                               0                0   \n",
      "2012                                               0                0   \n",
      "2002                                               0                0   \n",
      "2015                                               0                0   \n",
      "2006                                               0         94188334   \n",
      "2000                                               0                0   \n",
      "\n",
      "                                                                     \\\n",
      "production_companies 1492 Pictures 1984 Private Defense Contractors   \n",
      "release_year                                                          \n",
      "All                     3865035582                         36619464   \n",
      "2007                     159047763                                0   \n",
      "2008                             0                                0   \n",
      "2014                     222424282                         25181600   \n",
      "2011                      99272124                         24806235   \n",
      "2003                             0                                0   \n",
      "2010                     131497209                                0   \n",
      "2009                     263106170                                0   \n",
      "2004                     659804554                                0   \n",
      "2013                      84578751                        -36298836   \n",
      "2005                     222250339                                0   \n",
      "2001                     781885067                                0   \n",
      "2012                             0                         22930465   \n",
      "2002                     776688482                                0   \n",
      "2015                             0                                0   \n",
      "2006                     464480841                                0   \n",
      "2000                             0                                0   \n",
      "\n",
      "                                                   \\\n",
      "production_companies 2 Entertain 20th Century Fox   \n",
      "release_year                                        \n",
      "All                     14015963       1245410990   \n",
      "2007                    20811672         10342161   \n",
      "2008                    -6795709         -9349921   \n",
      "2014                           0        127912430   \n",
      "2011                           0        389860185   \n",
      "2003                           0         -7077834   \n",
      "2010                           0        127786662   \n",
      "2009                           0                0   \n",
      "2004                           0         -3394237   \n",
      "2013                           0         79163164   \n",
      "2005                           0        326549652   \n",
      "2001                           0        -19570391   \n",
      "2012                           0         94772232   \n",
      "2002                           0                0   \n",
      "2015                           0                0   \n",
      "2006                           0         24360014   \n",
      "2000                           0        104056873   \n",
      "\n",
      "                                                          \\\n",
      "production_companies 20th Century Fox Home Entertainment   \n",
      "release_year                                               \n",
      "All                                             -2719674   \n",
      "2007                                                   0   \n",
      "2008                                                   0   \n",
      "2014                                                   0   \n",
      "2011                                                   0   \n",
      "2003                                                   0   \n",
      "2010                                                   0   \n",
      "2009                                            -2719674   \n",
      "2004                                                   0   \n",
      "2013                                                   0   \n",
      "2005                                                   0   \n",
      "2001                                                   0   \n",
      "2012                                                   0   \n",
      "2002                                                   0   \n",
      "2015                                                   0   \n",
      "2006                                                   0   \n",
      "2000                                                   0   \n",
      "\n",
      "                                                                       ...  \\\n",
      "production_companies 21 Laps Entertainment  26 Films 2929 Productions  ...   \n",
      "release_year                                                           ...   \n",
      "All                             1451694150  35630314         19424750  ...   \n",
      "2007                                     0         0         33926886  ...   \n",
      "2008                             135000000         0        -18326578  ...   \n",
      "2014                             316574751         0                0  ...   \n",
      "2011                             189268508         0                0  ...   \n",
      "2003                                     0         0                0  ...   \n",
      "2010                              97263880         0                0  ...   \n",
      "2009                             263106170   3455276         -4364695  ...   \n",
      "2004                                     0         0          5114487  ...   \n",
      "2013                             -14000000         0                0  ...   \n",
      "2005                                     0  32175038         -7873775  ...   \n",
      "2001                                     0         0                0  ...   \n",
      "2012                                     0         0                0  ...   \n",
      "2002                                     0         0                0  ...   \n",
      "2015                                     0         0                0  ...   \n",
      "2006                             464480841         0         10948425  ...   \n",
      "2000                                     0         0                0  ...   \n",
      "\n",
      "                                                           \\\n",
      "production_companies Zentropa Entertainments Zephyr Films   \n",
      "release_year                                                \n",
      "All                                 27231879    -42116329   \n",
      "2007                                       0    -42116329   \n",
      "2008                                       0            0   \n",
      "2014                                       0            0   \n",
      "2011                                       0            0   \n",
      "2003                                       0            0   \n",
      "2010                                       0            0   \n",
      "2009                                       0            0   \n",
      "2004                                       0            0   \n",
      "2013                                       0            0   \n",
      "2005                                       0            0   \n",
      "2001                                       0            0   \n",
      "2012                                       0            0   \n",
      "2002                                       0            0   \n",
      "2015                                       0            0   \n",
      "2006                                       0            0   \n",
      "2000                                27231879            0   \n",
      "\n",
      "                                                                     \\\n",
      "production_companies Zero Gravity Management Zide-Perry Productions   \n",
      "release_year                                                          \n",
      "All                                 -5500000              654825826   \n",
      "2007                                       0                      0   \n",
      "2008                                       0                      0   \n",
      "2014                                       0                      0   \n",
      "2011                                       0                      0   \n",
      "2003                                       0              240875608   \n",
      "2010                                       0                      0   \n",
      "2009                                       0                      0   \n",
      "2004                                       0                      0   \n",
      "2013                                       0                      0   \n",
      "2005                                       0                      0   \n",
      "2001                                       0              290928746   \n",
      "2012                                       0                      0   \n",
      "2002                                       0                      0   \n",
      "2015                                       0                      0   \n",
      "2006                                -5500000               92719158   \n",
      "2000                                       0               30302314   \n",
      "\n",
      "                                                         \\\n",
      "production_companies Zippcast Films Zohar International   \n",
      "release_year                                              \n",
      "All                        33571250           602171856   \n",
      "2007                              0                   0   \n",
      "2008                              0                   0   \n",
      "2014                              0                   0   \n",
      "2011                              0           602171856   \n",
      "2003                              0                   0   \n",
      "2010                              0                   0   \n",
      "2009                              0                   0   \n",
      "2004                              0                   0   \n",
      "2013                              0                   0   \n",
      "2005                              0                   0   \n",
      "2001                              0                   0   \n",
      "2012                              0                   0   \n",
      "2002                              0                   0   \n",
      "2015                       33571250                   0   \n",
      "2006                              0                   0   \n",
      "2000                              0                   0   \n",
      "\n",
      "                                                                            \\\n",
      "production_companies Zucker/Netter Productions platinum studios      uFilm   \n",
      "release_year                                                                 \n",
      "All                                  280208309         -3543613  118432856   \n",
      "2007                                         0                0          0   \n",
      "2008                                         0                0          0   \n",
      "2014                                         0                0          0   \n",
      "2011                                         0         11822325  118432856   \n",
      "2003                                         0                0          0   \n",
      "2010                                         0        -15365938          0   \n",
      "2009                                 280208309                0          0   \n",
      "2004                                         0                0          0   \n",
      "2013                                         0                0          0   \n",
      "2005                                         0                0          0   \n",
      "2001                                         0                0          0   \n",
      "2012                                         0                0          0   \n",
      "2002                                         0                0          0   \n",
      "2015                                         0                0          0   \n",
      "2006                                         0                0          0   \n",
      "2000                                         0                0          0   \n",
      "\n",
      "                                    \n",
      "production_companies           All  \n",
      "release_year                        \n",
      "All                   617780536243  \n",
      "2007                   39556812949  \n",
      "2008                   38055266115  \n",
      "2014                   58543466580  \n",
      "2011                   46949975181  \n",
      "2003                   29122447864  \n",
      "2010                   43327868529  \n",
      "2009                   48823521075  \n",
      "2004                   32433267183  \n",
      "2013                   45496589970  \n",
      "2005                   29365704422  \n",
      "2001                   24928075425  \n",
      "2012                   42692162023  \n",
      "2002                   25662346177  \n",
      "2015                   65334625738  \n",
      "2006                   28493249688  \n",
      "2000                   18995157324  \n",
      "\n",
      "[17 rows x 1772 columns]\n"
     ]
    }
   ],
   "source": [
    "data2 = data.explode('production_companies')\n",
    "pivot = data2.pivot_table(values=['profit'],\n",
    "\t\t\t\tindex=['release_year'],\n",
    "\t\t\t\tcolumns=['production_companies'],\n",
    "\t\t\t\taggfunc='sum',\n",
    "\t\t\t\tmargins=True,\n",
    "\t\t\t\tfill_value=0)\n",
    "\n",
    "pivot = pivot.reindex(pivot['profit'].sort_values('Warner Bros.', ascending=False).index)\n",
    "\n",
    "print(pivot)"
   ]
  },
  {
   "cell_type": "markdown",
   "metadata": {},
   "source": [
    "#Cводной таблицей получился также 2007 год (на всякий случай проверил и по сборам - там тоже 2007, в вариантах ответов такого нет. Почему рассчитывается не суммой прибыли за год?"
   ]
  },
  {
   "cell_type": "markdown",
   "metadata": {
    "colab_type": "text",
    "id": "8Im1S2HRVp_4"
   },
   "source": [
    "# 21. В каком месяце за все годы суммарно вышло больше всего фильмов?"
   ]
  },
  {
   "cell_type": "code",
   "execution_count": 215,
   "metadata": {
    "colab": {},
    "colab_type": "code",
    "id": "lev6TH7gVp_4",
    "scrolled": true
   },
   "outputs": [
    {
     "name": "stdout",
     "output_type": "stream",
     "text": [
      "[('9', 227)]\n"
     ]
    }
   ],
   "source": [
    "data21 = data.copy()\n",
    "data21.release_date = data21.release_date.apply(lambda x: x[0])\n",
    "data21 = data21['release_date']\n",
    "answ21 = Counter(data21)\n",
    "\n",
    "print(answ21.most_common(1))\n",
    "\n",
    "answers['21'] = '9 +'"
   ]
  },
  {
   "cell_type": "markdown",
   "metadata": {
    "colab_type": "text",
    "id": "uAJsZ_NeVp_7"
   },
   "source": [
    "# 22. Сколько суммарно вышло фильмов летом? (за июнь, июль, август)"
   ]
  },
  {
   "cell_type": "code",
   "execution_count": 214,
   "metadata": {},
   "outputs": [
    {
     "name": "stdout",
     "output_type": "stream",
     "text": [
      "450\n"
     ]
    }
   ],
   "source": [
    "data22 = data.copy()\n",
    "data22.release_date = data.release_date.apply(lambda x: x[0])\n",
    "data22 = data22[(data22['release_date'] == '8') | (data22['release_date'] == '7') | (data22['release_date'] == '6')]\n",
    "data22 = data22['imdb_id'].count()\n",
    "\n",
    "print(data22)\n",
    "\n",
    "answers['22'] = '450 +'"
   ]
  },
  {
   "cell_type": "markdown",
   "metadata": {
    "colab_type": "text",
    "id": "G94ppOY1VqAA"
   },
   "source": [
    "# 23. Для какого режиссера зима – самое продуктивное время года? "
   ]
  },
  {
   "cell_type": "code",
   "execution_count": 230,
   "metadata": {
    "colab": {},
    "colab_type": "code",
    "id": "RhNTsamuVqAB"
   },
   "outputs": [
    {
     "name": "stdout",
     "output_type": "stream",
     "text": [
      "director\n",
      "Peter Jackson    7\n",
      "Name: imdb_id, dtype: int64\n"
     ]
    }
   ],
   "source": [
    "data23 = data.copy()\n",
    "data23.release_date = data.release_date.apply(lambda x: x[0])\n",
    "data23 = data23[(data23['release_date'] == '12') | (data23['release_date'] == '1') | (data23['release_date'] == '2')]\n",
    "data23 = data23.explode('director').groupby(['director'])['imdb_id'].count().sort_values(ascending=False)\n",
    "\n",
    "print(data23.head(1))\n",
    "\n",
    "answers['23'] = 'Peter Jackson +'"
   ]
  },
  {
   "cell_type": "markdown",
   "metadata": {
    "colab_type": "text",
    "id": "RBo0JVjVVqAF"
   },
   "source": [
    "# 24. Какая студия дает самые длинные названия своим фильмам по количеству символов?"
   ]
  },
  {
   "cell_type": "code",
   "execution_count": 231,
   "metadata": {
    "colab": {},
    "colab_type": "code",
    "id": "QRGS8L0iVqAG"
   },
   "outputs": [
    {
     "name": "stdout",
     "output_type": "stream",
     "text": [
      "production_companies\n",
      "Four By Two Productions    83.0\n",
      "Name: title_length, dtype: float64\n"
     ]
    }
   ],
   "source": [
    "data24 = data.explode('production_companies')\n",
    "data24 = data24.groupby(['production_companies'])['title_length'].mean().sort_values(ascending=False)\n",
    "\n",
    "print(data24.head(1))\n",
    "\n",
    "answers['24'] = 'Four By Two Productions +'"
   ]
  },
  {
   "cell_type": "markdown",
   "metadata": {
    "colab_type": "text",
    "id": "9G0hbvR7VqAK"
   },
   "source": [
    "# 25. Описание фильмов какой студии в среднем самые длинные по количеству слов?"
   ]
  },
  {
   "cell_type": "code",
   "execution_count": 232,
   "metadata": {
    "colab": {},
    "colab_type": "code",
    "id": "Ge2GsLNxVqAK"
   },
   "outputs": [
    {
     "name": "stdout",
     "output_type": "stream",
     "text": [
      "production_companies\n",
      "Midnight Picture Show    175.0\n",
      "Name: overview_length, dtype: float64\n"
     ]
    }
   ],
   "source": [
    "data25 = data.explode('production_companies')\n",
    "data25 = data25.groupby(['production_companies'])['overview_length'].mean().sort_values(ascending=False)\n",
    "\n",
    "print(data25.head(1))\n",
    "\n",
    "answers['25'] = 'Midnight Picture Show +'"
   ]
  },
  {
   "cell_type": "markdown",
   "metadata": {
    "colab_type": "text",
    "id": "FJ1AFt90VqAP"
   },
   "source": [
    "# 26. Какие фильмы входят в 1 процент лучших по рейтингу? \n",
    "по vote_average"
   ]
  },
  {
   "cell_type": "code",
   "execution_count": 233,
   "metadata": {
    "colab": {},
    "colab_type": "code",
    "id": "8qmJVq4CVqAQ"
   },
   "outputs": [
    {
     "name": "stdout",
     "output_type": "stream",
     "text": [
      "9                                          Inside Out\n",
      "34                                               Room\n",
      "118                                      Interstellar\n",
      "119                           Guardians of the Galaxy\n",
      "125                                The Imitation Game\n",
      "128                                         Gone Girl\n",
      "138                          The Grand Budapest Hotel\n",
      "370                                         Inception\n",
      "599                                   The Dark Knight\n",
      "872                                       The Pianist\n",
      "1081    The Lord of the Rings: The Return of the King\n",
      "1183                          The Wolf of Wall Street\n",
      "1191                                 12 Years a Slave\n",
      "1800                                          Memento\n",
      "Name: original_title, dtype: object\n"
     ]
    }
   ],
   "source": [
    "data26 = data[data['vote_average'] > data.quantile(0.99, numeric_only=True)['vote_average']]\n",
    "\n",
    "print(data26['original_title'])\n",
    "\n",
    "answers['26'] = 'Inside Out, The Dark Knight, 12 Years a Slave  +'"
   ]
  },
  {
   "cell_type": "markdown",
   "metadata": {
    "colab_type": "text",
    "id": "MdXsUXbCVqAV"
   },
   "source": [
    "# 27. Какие актеры чаще всего снимаются в одном фильме вместе?\n"
   ]
  },
  {
   "cell_type": "code",
   "execution_count": 225,
   "metadata": {},
   "outputs": [
    {
     "name": "stdout",
     "output_type": "stream",
     "text": [
      "(Daniel Radcliffe, Rupert Grint)        8\n",
      "(Daniel Radcliffe, Emma Watson)         8\n",
      "(Emma Watson, Rupert Grint)             8\n",
      "(Ben Stiller, Owen Wilson)              6\n",
      "(Helena Bonham Carter, Johnny Depp)     6\n",
      "                                       ..\n",
      "(Idris Elba, Tony Kgoroge)              1\n",
      "(Dakota Fanning, Elisabeth Shue)        1\n",
      "(Daniel E. Smith, Denzel Washington)    1\n",
      "(Brenton Thwaites, Jeff Bridges)        1\n",
      "(Antonio Banderas, Nick Chinlund)       1\n",
      "Name: cast, Length: 17943, dtype: int64\n"
     ]
    }
   ],
   "source": [
    "data27 = data.copy()\n",
    "data27.cast = data27.cast.apply(lambda x: list(combinations(sorted(x), 2)))\n",
    "\n",
    "print(data27.explode('cast').cast.value_counts())\n",
    "\n",
    "answers['27'] = 'Daniel Radcliffe, Rupert Grint +'"
   ]
  },
  {
   "cell_type": "markdown",
   "metadata": {
    "colab_type": "text",
    "id": "4ymnxEVoVqAW"
   },
   "source": [
    "ВАРИАНТ 2"
   ]
  },
  {
   "cell_type": "code",
   "execution_count": null,
   "metadata": {},
   "outputs": [],
   "source": []
  },
  {
   "cell_type": "markdown",
   "metadata": {
    "colab_type": "text",
    "id": "U0nONFnGVqAX"
   },
   "source": [
    "# Submission"
   ]
  },
  {
   "cell_type": "code",
   "execution_count": 239,
   "metadata": {
    "colab": {},
    "colab_type": "code",
    "id": "IfcaRO9-VqAX",
    "outputId": "0f132912-32bb-4196-c98c-abfbc4ad5a5f"
   },
   "outputs": [
    {
     "data": {
      "text/plain": [
       "{'1': 'Pirates of the Caribbean: On Stranger Tides +',\n",
       " '2': 'Gods and Generals +',\n",
       " '3': 'Winnie the Pooh +',\n",
       " '4': '110 +',\n",
       " '5': '107 +',\n",
       " '6': 'Avatar +',\n",
       " '7': 'The Lone Ranger +',\n",
       " '8': '1478 +',\n",
       " '9': 'The Dark Night +',\n",
       " '11': 'Drama +',\n",
       " '16': 'Matt Damon +',\n",
       " '15': 'Chris Hemsworth +',\n",
       " '14': 'Robert Rodriguez +',\n",
       " '13': 'Peter Jackson +',\n",
       " '12': 'Drama +',\n",
       " '17': 'Action +',\n",
       " '10': 'The Lone Ranger +',\n",
       " '22': '450 +',\n",
       " '21': '9 +',\n",
       " '20': '2007 ?',\n",
       " '19': '2015 +',\n",
       " '18': 'K-19: The Widowmaker +',\n",
       " '27': 'Daniel Radcliffe, Rupert Grint +',\n",
       " '23': 'Peter Jackson +',\n",
       " '24': 'Four By Two Productions +',\n",
       " '25': 'Midnight Picture Show +',\n",
       " '26': 'Inside Out, The Dark Knight, 12 Years a Slave  +'}"
      ]
     },
     "execution_count": 239,
     "metadata": {},
     "output_type": "execute_result"
    }
   ],
   "source": [
    "# в конце можно посмотреть свои ответы к каждому вопросу\n",
    "answers"
   ]
  },
  {
   "cell_type": "code",
   "execution_count": 236,
   "metadata": {
    "colab": {},
    "colab_type": "code",
    "id": "SiRmHPl8VqAd"
   },
   "outputs": [
    {
     "data": {
      "text/plain": [
       "27"
      ]
     },
     "execution_count": 236,
     "metadata": {},
     "output_type": "execute_result"
    }
   ],
   "source": [
    "# и убедиться что ни чего не пропустил)\n",
    "len(answers)"
   ]
  },
  {
   "cell_type": "code",
   "execution_count": 0,
   "metadata": {
    "colab": {},
    "colab_type": "code",
    "id": "uCfuTkRbVqAg"
   },
   "outputs": [],
   "source": []
  },
  {
   "cell_type": "code",
   "execution_count": 0,
   "metadata": {
    "colab": {},
    "colab_type": "code",
    "id": "Vwx3NrkSVqAl"
   },
   "outputs": [],
   "source": []
  }
 ],
 "metadata": {
  "colab": {
   "name": "Copy of [SF-DST] Movies IMBD v4.1 TEMPLATE.ipynb",
   "provenance": []
  },
  "kernelspec": {
   "display_name": "Python 3",
   "language": "python",
   "name": "python3"
  },
  "language_info": {
   "codemirror_mode": {
    "name": "ipython",
    "version": 3
   },
   "file_extension": ".py",
   "mimetype": "text/x-python",
   "name": "python",
   "nbconvert_exporter": "python",
   "pygments_lexer": "ipython3",
   "version": "3.8.8"
  }
 },
 "nbformat": 4,
 "nbformat_minor": 1
}
